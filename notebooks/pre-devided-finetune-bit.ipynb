{
 "cells": [
  {
   "cell_type": "code",
   "execution_count": 1,
   "metadata": {},
   "outputs": [],
   "source": [
    "import os\n",
    "import random\n",
    "import pathlib\n",
    "import tensorflow as tf\n",
    "import tensorflow.io as tfio\n",
    "import tensorflow_hub as hub\n",
    "import matplotlib.pyplot as plt\n",
    "from tensorflow.keras import datasets, layers, models"
   ]
  },
  {
   "cell_type": "code",
   "execution_count": 2,
   "metadata": {},
   "outputs": [],
   "source": [
    "AUTOTUNE = tf.data.experimental.AUTOTUNE\n",
    "NUM_CLASSES = 2\n",
    "RESIZE_TO = 512\n",
    "CROP_TO = 480\n",
    "IMAGE_SIZE = (CROP_TO, CROP_TO)\n",
    "NUM_CHANNELS = 3\n",
    "SCHEDULE_LENGTH = 1000\n",
    "SCHEDULE_BOUNDARIES = [300, 600, 900]\n",
    "BATCH_SIZE = 126\n",
    "SCHEDULE_LENGTH = SCHEDULE_LENGTH * 512 / BATCH_SIZE\n",
    "STEPS_PER_EPOCH = 10\n",
    "lr = 0.03 * BATCH_SIZE / 512 \n",
    "\n",
    "def load_and_preprocess_image(path, target_image_shape=IMAGE_SIZE, num_channnels=NUM_CHANNELS):\n",
    "    image = tf.io.read_file(path)\n",
    "    image = tf.image.decode_jpeg(image, channels=num_channnels)\n",
    "    image = tf.image.random_flip_left_right(image)\n",
    "    image = tf.image.random_flip_up_down(image)\n",
    "    image = tf.image.random_brightness(image, 0.2, seed=None)\n",
    "    image = tf.image.random_hue(image, 0.2)\n",
    "#     image = tf.image.resize(image, [RESIZE_TO, RESIZE_TO])\n",
    "#     image = tf.image.random_crop(image, [CROP_TO, CROP_TO, 3])\n",
    "    image = tf.image.resize(image, [CROP_TO, CROP_TO])\n",
    "    image /= 255.0  # normalize to [0,1] range\n",
    "#     image = 2*image-1\n",
    "    return image\n",
    "\n",
    "class MyBiTModel(tf.keras.Model):\n",
    "    \"\"\"BiT with a new head.\"\"\"\n",
    "\n",
    "    def __init__(self, num_classes, module):\n",
    "        super().__init__()\n",
    "\n",
    "        self.num_classes = num_classes\n",
    "        self.head = tf.keras.layers.Dense(1, kernel_initializer='zeros', activation='sigmoid')\n",
    "        self.bit_model = module\n",
    "\n",
    "    def call(self, images):\n",
    "        # No need to cut head off since we are using feature extractor model\n",
    "        bit_embedding = self.bit_model(images)\n",
    "        return self.head(bit_embedding)"
   ]
  },
  {
   "cell_type": "code",
   "execution_count": 3,
   "metadata": {},
   "outputs": [
    {
     "name": "stdout",
     "output_type": "stream",
     "text": [
      "WARNING:tensorflow:From <ipython-input-3-53dcd45df227>:15: shuffle_and_repeat (from tensorflow.python.data.experimental.ops.shuffle_ops) is deprecated and will be removed in a future version.\n",
      "Instructions for updating:\n",
      "Use `tf.data.Dataset.shuffle(buffer_size, seed)` followed by `tf.data.Dataset.repeat(count)`. Static tf.data optimizations will take care of using the fused implementation.\n"
     ]
    }
   ],
   "source": [
    "train_val_data_root = '../dataset_5_512/train'\n",
    "train_val_data_root = pathlib.Path(train_val_data_root)\n",
    "all_image_paths = [str(path) for path in list(train_val_data_root.glob('*/*'))]\n",
    "label_names = sorted(item.name for item in train_val_data_root.glob('*/') if item.is_dir())\n",
    "label_to_index = dict((name, index) for index,name in enumerate(label_names))\n",
    "all_image_labels = [label_to_index[pathlib.Path(path).parent.name] for path in all_image_paths]\n",
    "image_count = len(all_image_paths)\n",
    "image_path_ds = tf.data.Dataset.from_tensor_slices(all_image_paths)\n",
    "image_ds = image_path_ds.map(load_and_preprocess_image, num_parallel_calls=AUTOTUNE)\n",
    "label_ds = tf.data.Dataset.from_tensor_slices(tf.cast(all_image_labels, tf.int64))\n",
    "image_label_ds = tf.data.Dataset.zip((image_ds, label_ds))\n",
    "train_pipeline = (\n",
    "    image_label_ds\n",
    "        .cache()\n",
    "        .apply(tf.data.experimental.shuffle_and_repeat(buffer_size=len(all_image_paths)))\n",
    "        .batch(BATCH_SIZE)\n",
    "        .prefetch(buffer_size=AUTOTUNE)\n",
    ")\n",
    "train_steps_per_epoch=tf.math.ceil(len(all_image_paths)/BATCH_SIZE).numpy()"
   ]
  },
  {
   "cell_type": "code",
   "execution_count": 4,
   "metadata": {},
   "outputs": [],
   "source": [
    "test_data_root = '../dataset_5_512/val'\n",
    "test_data_root = pathlib.Path(test_data_root)\n",
    "all_image_paths = [str(path) for path in list(test_data_root.glob('*/*'))]\n",
    "label_names = sorted(item.name for item in test_data_root.glob('*/') if item.is_dir())\n",
    "label_to_index = dict((name, index) for index,name in enumerate(label_names))\n",
    "all_image_labels = [label_to_index[pathlib.Path(path).parent.name] for path in all_image_paths]\n",
    "image_count = len(all_image_paths)\n",
    "image_path_ds = tf.data.Dataset.from_tensor_slices(all_image_paths)\n",
    "image_ds = image_path_ds.map(load_and_preprocess_image, num_parallel_calls=AUTOTUNE)\n",
    "label_ds = tf.data.Dataset.from_tensor_slices(tf.cast(all_image_labels, tf.int64))\n",
    "image_label_ds = tf.data.Dataset.zip((image_ds, label_ds))\n",
    "test_pipeline = (image_label_ds\n",
    "                    .cache()\n",
    "                    .apply(tf.data.experimental.shuffle_and_repeat(buffer_size=len(all_image_paths)))\n",
    "                    .batch(BATCH_SIZE).prefetch(buffer_size=AUTOTUNE))\n",
    "val_steps_per_epoch=tf.math.ceil(len(all_image_paths)/BATCH_SIZE).numpy()"
   ]
  },
  {
   "cell_type": "code",
   "execution_count": 5,
   "metadata": {},
   "outputs": [],
   "source": [
    "model_url = \"https://tfhub.dev/google/bit/m-r50x1/1\"\n",
    "module = hub.KerasLayer(model_url)\n",
    "model = MyBiTModel(num_classes=NUM_CLASSES, module=module)"
   ]
  },
  {
   "cell_type": "code",
   "execution_count": 6,
   "metadata": {},
   "outputs": [],
   "source": [
    "lr_schedule = tf.keras.optimizers.schedules.PiecewiseConstantDecay(\n",
    "    boundaries=SCHEDULE_BOUNDARIES,\n",
    "    values=[lr, lr*0.1, lr*0.001, lr*0.0001]\n",
    ")\n",
    "optimizer = tf.keras.optimizers.SGD(\n",
    "    learning_rate=lr_schedule,\n",
    "    momentum=0.9\n",
    ")\n",
    "loss_fn = tf.keras.losses.BinaryCrossentropy(from_logits=True)\n",
    "model.compile(optimizer=optimizer,\n",
    "              loss=loss_fn,\n",
    "              metrics=['accuracy'])"
   ]
  },
  {
   "cell_type": "code",
   "execution_count": 7,
   "metadata": {},
   "outputs": [],
   "source": [
    "optimizer = tf.keras.optimizers.Adam(\n",
    "    learning_rate=0.0001, beta_1=0.9, beta_2=0.999, epsilon=1e-07, amsgrad=False,\n",
    ")\n",
    "loss_fn = tf.keras.losses.BinaryCrossentropy()\n",
    "model.compile(\n",
    "    loss=loss_fn,\n",
    "    optimizer=optimizer,\n",
    "    metrics=['accuracy']\n",
    ")"
   ]
  },
  {
   "cell_type": "code",
   "execution_count": null,
   "metadata": {
    "scrolled": true
   },
   "outputs": [
    {
     "name": "stdout",
     "output_type": "stream",
     "text": [
      "Epoch 1/1000\n",
      "253/253 [==============================] - 418s 2s/step - loss: 0.3246 - accuracy: 0.8812 - val_loss: 0.2466 - val_accuracy: 0.9057\n",
      "Epoch 2/1000\n",
      "253/253 [==============================] - 400s 2s/step - loss: 0.2095 - accuracy: 0.9240 - val_loss: 0.2226 - val_accuracy: 0.9111\n",
      "Epoch 3/1000\n",
      "253/253 [==============================] - 396s 2s/step - loss: 0.1853 - accuracy: 0.9311 - val_loss: 0.2078 - val_accuracy: 0.9146\n",
      "Epoch 4/1000\n",
      " 35/253 [===>..........................] - ETA: 4:47 - loss: 0.1816 - accuracy: 0.9313"
     ]
    }
   ],
   "source": [
    "model.fit(\n",
    "    train_pipeline, \n",
    "    epochs=1000, \n",
    "    steps_per_epoch=train_steps_per_epoch, \n",
    "    validation_data=test_pipeline, \n",
    "    validation_steps=val_steps_per_epoch\n",
    ")"
   ]
  }
 ],
 "metadata": {
  "kernelspec": {
   "display_name": "Python 3",
   "language": "python",
   "name": "python3"
  },
  "language_info": {
   "codemirror_mode": {
    "name": "ipython",
    "version": 3
   },
   "file_extension": ".py",
   "mimetype": "text/x-python",
   "name": "python",
   "nbconvert_exporter": "python",
   "pygments_lexer": "ipython3",
   "version": "3.8.5"
  }
 },
 "nbformat": 4,
 "nbformat_minor": 4
}
