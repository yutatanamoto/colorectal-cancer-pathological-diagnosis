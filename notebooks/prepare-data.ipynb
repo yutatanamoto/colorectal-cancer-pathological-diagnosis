{
 "cells": [
  {
   "cell_type": "markdown",
   "metadata": {},
   "source": [
    "# Preparation of dataset"
   ]
  },
  {
   "cell_type": "markdown",
   "metadata": {},
   "source": [
    "## Import Modules"
   ]
  },
  {
   "cell_type": "code",
   "execution_count": 51,
   "metadata": {},
   "outputs": [],
   "source": [
    "import os\n",
    "import tensorflow as tf\n",
    "import glob\n",
    "from tqdm import tqdm\n",
    "from PIL import Image\n",
    "import numpy as np\n",
    "import matplotlib.pyplot as plt\n",
    "import random\n",
    "from scipy.ndimage import gaussian_filter, map_coordinates\n",
    "import numpy as np\n",
    "import math\n",
    "from scipy.signal import convolve2d\n",
    "import scipy.misc"
   ]
  },
  {
   "cell_type": "markdown",
   "metadata": {},
   "source": [
    "## Format label image size"
   ]
  },
  {
   "cell_type": "code",
   "execution_count": 38,
   "metadata": {},
   "outputs": [],
   "source": [
    "original_dir = '../datasets/label_images_original'\n",
    "save_dir = '../datasets/label_images_formatted'\n",
    "if not os.path.exists(save_dir):\n",
    "    os.mkdir(save_dir)\n",
    "for label_image_path in glob.glob(original_dir+'/*.png'):\n",
    "    label_image = Image.open(label_image_path)\n",
    "    if label_image.size == (700,700):\n",
    "        label_image = label_image.crop((35, 35, 665, 665))\n",
    "    image_name = os.path.splitext(os.path.basename(label_image_path))[0]\n",
    "    save_path = os.path.join(save_dir, image_name+'.png')\n",
    "    label_image.save(save_path, quality=95)"
   ]
  },
  {
   "cell_type": "markdown",
   "metadata": {},
   "source": [
    "## Convert label images into ndarray data\n",
    "- Non area of Interest -> 0\n",
    "- Region of normal -> 1\n",
    "- Region of tumor  -> 2\n",
    "- Region of xxx.   -> 3"
   ]
  },
  {
   "cell_type": "code",
   "execution_count": 56,
   "metadata": {
    "scrolled": false
   },
   "outputs": [
    {
     "name": "stderr",
     "output_type": "stream",
     "text": [
      "100%|██████████| 2028/2028 [00:56<00:00, 35.95it/s]\n"
     ]
    }
   ],
   "source": [
    "num_split = 5\n",
    "image_dir = '../datasets/pathologocal_images_JPEG'\n",
    "label_dir = '../datasets/label_images_size_formatted'\n",
    "save_dir = '../datasets/ndarray_labels'\n",
    "if not os.path.exists(save_dir):\n",
    "    os.mkdir(save_dir)\n",
    "label_image_path_list = glob.glob(label_dir+'/*')\n",
    "for label_image_path in tqdm(label_image_path_list):\n",
    "    label_image = Image.open(label_image_path)\n",
    "    label_image_array = np.array(label_image)\n",
    "    black = np.logical_and(\n",
    "        np.logical_and(\n",
    "            label_image_array[:, :, 1] == 0,\n",
    "            label_image_array[:, :, 2] == 0\n",
    "        ),\n",
    "        label_image_array[:, :, 3] == 255\n",
    "    )\n",
    "    blue = np.logical_and(\n",
    "        np.logical_and(\n",
    "            label_image_array[:, :, 1] == 0,\n",
    "            label_image_array[:, :, 2] != 0\n",
    "        ),\n",
    "        label_image_array[:, :, 0] == 0\n",
    "    )\n",
    "    green = np.logical_and(\n",
    "        np.logical_and(\n",
    "            label_image_array[:, :, 1] != 0,\n",
    "            label_image_array[:, :, 2] == 0\n",
    "        ),\n",
    "        label_image_array[:, :, 0] == 0\n",
    "    )\n",
    "    blue_green =np.logical_and(\n",
    "        np.logical_and(\n",
    "            label_image_array[:, :, 1] != 0,\n",
    "            label_image_array[:, :, 2] != 0\n",
    "        ),\n",
    "        label_image_array[:, :, 0] == 0\n",
    "    )\n",
    "    new_label_array = np.zeros(label_image.size)\n",
    "    new_label_array[black] = -1\n",
    "    new_label_array[green] = 1\n",
    "    new_label_array[blue] = 2\n",
    "    new_label_array[blue_green] = 3\n",
    "    image_name = os.path.splitext(os.path.basename(label_image_path))[0]\n",
    "    save_path = os.path.join(save_dir, image_name+'.npy')\n",
    "    np.save(save_path, new_label_array)\n",
    "    save_dir = '../datasets/label_image_formatted'\n",
    "    save_path = os.path.join(save_dir, image_name+'.jpg')"
   ]
  },
  {
   "cell_type": "markdown",
   "metadata": {},
   "source": [
    "## Devide samples into training samples and test samples and create textlines"
   ]
  },
  {
   "cell_type": "code",
   "execution_count": 55,
   "metadata": {},
   "outputs": [
    {
     "name": "stdout",
     "output_type": "stream",
     "text": [
      "num_samples -> 2024\n",
      "train_and_validation_sample_names -> 1821\n",
      "test_sample_names -> 203\n"
     ]
    }
   ],
   "source": [
    "seed = 0\n",
    "image_dir = '../datasets/pathologocal_images_JPEG'\n",
    "label_dir = '../datasets/ndarray_labels'\n",
    "image_path_list = glob.glob(image_dir+'/*')\n",
    "label_path_list = glob.glob(label_dir+'/*')\n",
    "image_names = [os.path.splitext(os.path.basename(path))[0] for path in image_path_list]\n",
    "label_names = [os.path.splitext(os.path.basename(path))[0] for path in label_path_list]\n",
    "label_names = list(set(label_names) & (set(image_names) & set(label_names)))\n",
    "random.seed(seed)\n",
    "random.shuffle(label_names)\n",
    "test_ratio = 0.1\n",
    "num_samples = len(label_names)\n",
    "print(\"num_samples -> {}\".format(num_samples))\n",
    "num_train_samples = math.floor(num_samples * (1 - test_ratio))\n",
    "train_val_sample_names = [name for name in label_names[:num_train_samples]]\n",
    "test_sample_names = [name for name in label_names[num_train_samples:]]\n",
    "print(\"train_and_validation_sample_names -> {}\".format(len(train_val_sample_names)))\n",
    "print(\"test_sample_names -> {}\".format(len(test_sample_names)))\n",
    "train_val_sample_names_with_indentation = \"\\n\".join(train_val_sample_names)\n",
    "test_sample_names_with_indentation = \"\\n\".join(test_sample_names)\n",
    "train_val_sample_save_path = '../datasets/train_val.txt'\n",
    "with open(train_val_sample_save_path, 'w') as f:\n",
    "    f.write(train_val_sample_names_with_indentation)\n",
    "test_sample_save_path = '../datasets/test.txt'\n",
    "with open(test_sample_save_path, 'w') as f:\n",
    "    f.write(test_sample_names_with_indentation)"
   ]
  }
 ],
 "metadata": {
  "kernelspec": {
   "display_name": "Python 3",
   "language": "python",
   "name": "python3"
  },
  "language_info": {
   "codemirror_mode": {
    "name": "ipython",
    "version": 3
   },
   "file_extension": ".py",
   "mimetype": "text/x-python",
   "name": "python",
   "nbconvert_exporter": "python",
   "pygments_lexer": "ipython3",
   "version": "3.8.5"
  }
 },
 "nbformat": 4,
 "nbformat_minor": 4
}
